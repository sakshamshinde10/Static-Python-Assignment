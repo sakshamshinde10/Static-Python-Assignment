{
 "cells": [
  {
   "cell_type": "markdown",
   "metadata": {},
   "source": [
    "Calculator Program"
   ]
  },
  {
   "cell_type": "code",
   "execution_count": null,
   "metadata": {},
   "outputs": [],
   "source": [
    "while True :\n",
    "    print(\"MENU\")\n",
    "    print(\"1. Addition\")\n",
    "    print(\"2. Subtraction\")\n",
    "    print(\"3. Multiplication\")\n",
    "    print(\"4. Divsion \")\n",
    "    print(\"5. Modulus\")\n",
    "    print(\"6. Power\")\n",
    "    print(\"7. Exit\")\n",
    "    ch = int(input(\"Enter choice:\"))\n",
    "\n",
    "    if ch in(1,2,3,4,5,6) :\n",
    "        \n",
    "        a = int(input(\"Enter number 1:\"))\n",
    "        b =  int(input(\"Enter number 2:\"))\n",
    "    \n",
    "    if ch == 1:\n",
    "        sum = a + b \n",
    "        print(\"Addition is:\", sum)\n",
    "    elif ch == 2 :\n",
    "        diff = a - b \n",
    "        print(\"Subtraction is:\",diff)\n",
    "    elif ch == 3 :\n",
    "        mul = a * b\n",
    "        print(\"Multiplication is:\",mul)\n",
    "    elif ch == 4:\n",
    "        div = a / b \n",
    "        print(\"Division is:\",div)\n",
    "    elif ch == 5:\n",
    "        mod = a % b\n",
    "        print(\"Modulus is:\",mod)\n",
    "    elif ch == 6:\n",
    "        pow = a ** b\n",
    "        print(\"Power is:\",pow)\n",
    "    elif ch == 7:\n",
    "        print(\"END\")\n",
    "        break\n",
    "    else:\n",
    "        print(\"Invalid choice\")\n",
    "\n"
   ]
  },
  {
   "cell_type": "markdown",
   "metadata": {},
   "source": [
    "Temperature converter"
   ]
  },
  {
   "cell_type": "code",
   "execution_count": 2,
   "metadata": {},
   "outputs": [
    {
     "name": "stdout",
     "output_type": "stream",
     "text": [
      "1. Celcius to Farenheit:\n",
      "2. Farenheit to Celsius:\n",
      "3. Exit\n",
      "END\n"
     ]
    }
   ],
   "source": [
    "while True:\n",
    "    print(\"1. Celcius to Farenheit:\")\n",
    "    print(\"2. Farenheit to Celsius:\")\n",
    "    print(\"3. Exit\")\n",
    "\n",
    "    ch = int(input(\"Enter choice:\"))\n",
    "\n",
    "    if ch in(1,2):\n",
    "       temperature = float(input(\"Enter temperature:\"))\n",
    "\n",
    "    if ch == 1 :\n",
    "           farenheit = ((temperature * 9/5) + 32)\n",
    "           print(\"Celsius to Farenheit: \", farenheit)\n",
    "\n",
    "    elif ch == 2 :\n",
    "           celsius = ((temperature - 32 )* 5/9)\n",
    "           print(\"Farenheit to Celsius: \",celsius)\n",
    "    elif ch == 3:\n",
    "           print(\"END\")\n",
    "           break \n",
    "    else:\n",
    "           print(\"Invalid choice\")"
   ]
  }
 ],
 "metadata": {
  "kernelspec": {
   "display_name": "Python 3",
   "language": "python",
   "name": "python3"
  },
  "language_info": {
   "codemirror_mode": {
    "name": "ipython",
    "version": 3
   },
   "file_extension": ".py",
   "mimetype": "text/x-python",
   "name": "python",
   "nbconvert_exporter": "python",
   "pygments_lexer": "ipython3",
   "version": "3.12.3"
  }
 },
 "nbformat": 4,
 "nbformat_minor": 2
}
